{
 "cells": [
  {
   "cell_type": "code",
   "execution_count": 28,
   "metadata": {},
   "outputs": [],
   "source": [
    "from bs4 import BeautifulSoup\n",
    "import pandas as pd\n",
    "\n",
    "# Read HTML content form file\n",
    "\n",
    "with open('options.html', 'r') as html_file:\n",
    "    html_text = html_file.read()\n",
    "# Parse HTML content\n",
    "soup = BeautifulSoup(html_text, 'html.parser')\n",
    "\n",
    "# Find dropdown\n",
    "dropdown = soup.find('select')  # replace 'select' with the actual tag or class\n",
    "\n",
    "# Initialize list for data\n",
    "data = []"
   ]
  },
  {
   "cell_type": "code",
   "execution_count": 29,
   "metadata": {},
   "outputs": [],
   "source": [
    "# Iterate over optgroups\n",
    "for optgroup in dropdown.find_all('optgroup'):\n",
    "    # Extract faculty from optgroup label\n",
    "    faculty = optgroup['label']\n",
    "\n",
    "    # Iterate over options within optgroup\n",
    "    for option in optgroup.find_all('option'):\n",
    "        # Extract attributes\n",
    "        name = option.text\n",
    "        id = option['value']\n",
    "        # Extract semester from name\n",
    "        semester = name.split('(')[-1].split('-')[0].strip()\n",
    "        # Extract credits from name\n",
    "        credits = name.split('-')[-1].split('créditos')[0].strip()\n",
    "\n",
    "        # Create dictionary and append to list\n",
    "        data.append({'name': name, 'credits': credits, 'id': id, 'semester': semester, 'faculty': faculty})"
   ]
  },
  {
   "cell_type": "code",
   "execution_count": 30,
   "metadata": {},
   "outputs": [],
   "source": [
    "# Data to dataframe\n",
    "df = pd.DataFrame(data)\n",
    "df.head()\n",
    "# Cut id from name column by splitting before \"-\"\n",
    "df['name'] = df['name'].str.split('-').str[1]\n",
    "# Remove semestre from name column by splitting before \"(\"\n",
    "df['name'] = df['name'].str.split('(').str[0]"
   ]
  },
  {
   "cell_type": "code",
   "execution_count": 31,
   "metadata": {},
   "outputs": [
    {
     "data": {
      "text/html": [
       "<div>\n",
       "<style scoped>\n",
       "    .dataframe tbody tr th:only-of-type {\n",
       "        vertical-align: middle;\n",
       "    }\n",
       "\n",
       "    .dataframe tbody tr th {\n",
       "        vertical-align: top;\n",
       "    }\n",
       "\n",
       "    .dataframe thead th {\n",
       "        text-align: right;\n",
       "    }\n",
       "</style>\n",
       "<table border=\"1\" class=\"dataframe\">\n",
       "  <thead>\n",
       "    <tr style=\"text-align: right;\">\n",
       "      <th></th>\n",
       "      <th>name</th>\n",
       "      <th>credits</th>\n",
       "      <th>id</th>\n",
       "      <th>semester</th>\n",
       "      <th>faculty</th>\n",
       "    </tr>\n",
       "  </thead>\n",
       "  <tbody>\n",
       "    <tr>\n",
       "      <th>0</th>\n",
       "      <td>Fundamentos Físicos de la Informática</td>\n",
       "      <td>6</td>\n",
       "      <td>2040004</td>\n",
       "      <td>Segundo semestre</td>\n",
       "      <td>Grado en Ingeniería Informática-Ingeniería de ...</td>\n",
       "    </tr>\n",
       "    <tr>\n",
       "      <th>1</th>\n",
       "      <td>Cálculo Infinitesimal y Numérico</td>\n",
       "      <td>6</td>\n",
       "      <td>2040007</td>\n",
       "      <td>Segundo semestre</td>\n",
       "      <td>Grado en Ingeniería Informática-Ingeniería de ...</td>\n",
       "    </tr>\n",
       "    <tr>\n",
       "      <th>2</th>\n",
       "      <td>Estadística</td>\n",
       "      <td>6</td>\n",
       "      <td>2040008</td>\n",
       "      <td>Segundo semestre</td>\n",
       "      <td>Grado en Ingeniería Informática-Ingeniería de ...</td>\n",
       "    </tr>\n",
       "    <tr>\n",
       "      <th>3</th>\n",
       "      <td>Estructura de Computadores</td>\n",
       "      <td>6</td>\n",
       "      <td>2040009</td>\n",
       "      <td>Segundo semestre</td>\n",
       "      <td>Grado en Ingeniería Informática-Ingeniería de ...</td>\n",
       "    </tr>\n",
       "    <tr>\n",
       "      <th>4</th>\n",
       "      <td>Arquitectura de Computadores</td>\n",
       "      <td>6</td>\n",
       "      <td>2040015</td>\n",
       "      <td>Segundo semestre</td>\n",
       "      <td>Grado en Ingeniería Informática-Ingeniería de ...</td>\n",
       "    </tr>\n",
       "  </tbody>\n",
       "</table>\n",
       "</div>"
      ],
      "text/plain": [
       "                                      name credits       id          semester  \\\n",
       "0   Fundamentos Físicos de la Informática        6  2040004  Segundo semestre   \n",
       "1        Cálculo Infinitesimal y Numérico        6  2040007  Segundo semestre   \n",
       "2                             Estadística        6  2040008  Segundo semestre   \n",
       "3              Estructura de Computadores        6  2040009  Segundo semestre   \n",
       "4            Arquitectura de Computadores        6  2040015  Segundo semestre   \n",
       "\n",
       "                                             faculty  \n",
       "0  Grado en Ingeniería Informática-Ingeniería de ...  \n",
       "1  Grado en Ingeniería Informática-Ingeniería de ...  \n",
       "2  Grado en Ingeniería Informática-Ingeniería de ...  \n",
       "3  Grado en Ingeniería Informática-Ingeniería de ...  \n",
       "4  Grado en Ingeniería Informática-Ingeniería de ...  "
      ]
     },
     "execution_count": 31,
     "metadata": {},
     "output_type": "execute_result"
    }
   ],
   "source": [
    "df.head()"
   ]
  },
  {
   "cell_type": "code",
   "execution_count": 32,
   "metadata": {},
   "outputs": [
    {
     "name": "stdout",
     "output_type": "stream",
     "text": [
      "Requirement already satisfied: openpyxl in /Users/leonremke/miniconda3/envs/bomberman/lib/python3.11/site-packages (3.1.2)\n",
      "Requirement already satisfied: et-xmlfile in /Users/leonremke/miniconda3/envs/bomberman/lib/python3.11/site-packages (from openpyxl) (1.1.0)\n"
     ]
    }
   ],
   "source": [
    "!pip install openpyxl"
   ]
  },
  {
   "cell_type": "code",
   "execution_count": 33,
   "metadata": {},
   "outputs": [],
   "source": [
    "# Remove all accents from every column\n",
    "df = df.apply(lambda x: x.str.normalize('NFKD').str.encode('ascii', errors='ignore').str.decode('utf-8'))"
   ]
  },
  {
   "cell_type": "code",
   "execution_count": 45,
   "metadata": {},
   "outputs": [],
   "source": [
    "# Save to csv\n",
    "\n",
    "def df_to_excel(df):\n",
    "    df.to_csv('courses.csv', index=False, sep=';')\n",
    "    # Create copy and remove all accents\n",
    "    df_copy = df.copy()\n",
    "    df_copy = df_copy.apply(lambda x: x.str.normalize('NFKD').str.encode('ascii', errors='ignore').str.decode('utf-8'))\n",
    "\n",
    "    # Save to excel with one sheet per faculty\n",
    "    with pd.ExcelWriter('courses.xlsx') as writer:\n",
    "        for faculty in df_copy['faculty'].unique():\n",
    "            df_copy[df_copy['faculty'] == faculty].to_excel(writer, sheet_name=faculty, index=False, engine='openpyxl', encoding='utf-8')"
   ]
  },
  {
   "cell_type": "code",
   "execution_count": 47,
   "metadata": {},
   "outputs": [],
   "source": [
    "import pandas as pd\n",
    "from openpyxl import load_workbook\n",
    "from openpyxl.styles import PatternFill, Font\n",
    "from openpyxl.utils.dataframe import dataframe_to_rows\n",
    "\n",
    "def df_to_excel_advanced(df):\n",
    "    df.to_csv('courses_1.csv', index=False, sep=';')\n",
    "    # Create copy and remove all accents\n",
    "    df_copy = df.copy()\n",
    "    df_copy = df_copy.apply(lambda x: x.str.normalize('NFKD').str.encode('ascii', errors='ignore').str.decode('utf-8'))\n",
    "\n",
    "    # Save to excel with one sheet per faculty\n",
    "    with pd.ExcelWriter('courses_1.xlsx') as writer:\n",
    "        for faculty in df_copy['faculty'].unique():\n",
    "            df_copy[df_copy['faculty'] == faculty].to_excel(writer, sheet_name=faculty, index=False, engine='openpyxl')\n",
    "\n",
    "    # Open the Excel file\n",
    "    wb = load_workbook('courses_1.xlsx')\n",
    "\n",
    "    # Apply styles\n",
    "    for sheet_name in wb.sheetnames:\n",
    "        ws = wb[sheet_name]\n",
    "        fill = PatternFill(start_color=\"FFFF00\", end_color=\"FFFF00\", fill_type=\"solid\")\n",
    "        font = Font(bold=True)\n",
    "        for column in ws.columns:\n",
    "            max_length = 0\n",
    "            column = [cell for cell in column]\n",
    "            for cell in column:\n",
    "                try:  # Necessary to avoid error on empty cells\n",
    "                    if len(str(cell.value)) > max_length:\n",
    "                        max_length = len(cell.value)\n",
    "                except:\n",
    "                    pass\n",
    "            adjusted_width = (max_length + 2)\n",
    "            ws.column_dimensions[column[0].column_letter].width = adjusted_width\n",
    "            column[0].fill = fill\n",
    "            column[0].font = font\n",
    "\n",
    "    # Save the styled Excel file\n",
    "    wb.save('courses_styled.xlsx')"
   ]
  },
  {
   "cell_type": "markdown",
   "metadata": {},
   "source": [
    "- Visual Computing (VC)\n",
    "- Software Systems and Engineering (SE)\n",
    "- Scientific Computing (SC)\n",
    "- Algorithmic Data Analysis and Machine Learning (AM)\n",
    "- Algorithmics and Theoretical Computer Science (AT)\n",
    "- Computer Engineering (CE)"
   ]
  },
  {
   "cell_type": "code",
   "execution_count": 35,
   "metadata": {},
   "outputs": [
    {
     "data": {
      "text/html": [
       "<div>\n",
       "<style scoped>\n",
       "    .dataframe tbody tr th:only-of-type {\n",
       "        vertical-align: middle;\n",
       "    }\n",
       "\n",
       "    .dataframe tbody tr th {\n",
       "        vertical-align: top;\n",
       "    }\n",
       "\n",
       "    .dataframe thead th {\n",
       "        text-align: right;\n",
       "    }\n",
       "</style>\n",
       "<table border=\"1\" class=\"dataframe\">\n",
       "  <thead>\n",
       "    <tr style=\"text-align: right;\">\n",
       "      <th></th>\n",
       "      <th>name</th>\n",
       "      <th>credits</th>\n",
       "      <th>id</th>\n",
       "      <th>semester</th>\n",
       "      <th>faculty</th>\n",
       "      <th>subject_area</th>\n",
       "    </tr>\n",
       "  </thead>\n",
       "  <tbody>\n",
       "    <tr>\n",
       "      <th>0</th>\n",
       "      <td>Fundamentos Fisicos de la Informatica</td>\n",
       "      <td>6</td>\n",
       "      <td>2040004</td>\n",
       "      <td>Segundo semestre</td>\n",
       "      <td>Grado en Ingenieria Informatica-Ingenieria de ...</td>\n",
       "      <td>Visual Computing (VC)</td>\n",
       "    </tr>\n",
       "    <tr>\n",
       "      <th>1</th>\n",
       "      <td>Calculo Infinitesimal y Numerico</td>\n",
       "      <td>6</td>\n",
       "      <td>2040007</td>\n",
       "      <td>Segundo semestre</td>\n",
       "      <td>Grado en Ingenieria Informatica-Ingenieria de ...</td>\n",
       "      <td>Visual Computing (VC)</td>\n",
       "    </tr>\n",
       "    <tr>\n",
       "      <th>2</th>\n",
       "      <td>Estadistica</td>\n",
       "      <td>6</td>\n",
       "      <td>2040008</td>\n",
       "      <td>Segundo semestre</td>\n",
       "      <td>Grado en Ingenieria Informatica-Ingenieria de ...</td>\n",
       "      <td>Visual Computing (VC)</td>\n",
       "    </tr>\n",
       "    <tr>\n",
       "      <th>3</th>\n",
       "      <td>Estructura de Computadores</td>\n",
       "      <td>6</td>\n",
       "      <td>2040009</td>\n",
       "      <td>Segundo semestre</td>\n",
       "      <td>Grado en Ingenieria Informatica-Ingenieria de ...</td>\n",
       "      <td>Visual Computing (VC)</td>\n",
       "    </tr>\n",
       "    <tr>\n",
       "      <th>4</th>\n",
       "      <td>Arquitectura de Computadores</td>\n",
       "      <td>6</td>\n",
       "      <td>2040015</td>\n",
       "      <td>Segundo semestre</td>\n",
       "      <td>Grado en Ingenieria Informatica-Ingenieria de ...</td>\n",
       "      <td>Visual Computing (VC)</td>\n",
       "    </tr>\n",
       "  </tbody>\n",
       "</table>\n",
       "</div>"
      ],
      "text/plain": [
       "                                      name credits       id          semester  \\\n",
       "0   Fundamentos Fisicos de la Informatica        6  2040004  Segundo semestre   \n",
       "1        Calculo Infinitesimal y Numerico        6  2040007  Segundo semestre   \n",
       "2                             Estadistica        6  2040008  Segundo semestre   \n",
       "3              Estructura de Computadores        6  2040009  Segundo semestre   \n",
       "4            Arquitectura de Computadores        6  2040015  Segundo semestre   \n",
       "\n",
       "                                             faculty           subject_area  \n",
       "0  Grado en Ingenieria Informatica-Ingenieria de ...  Visual Computing (VC)  \n",
       "1  Grado en Ingenieria Informatica-Ingenieria de ...  Visual Computing (VC)  \n",
       "2  Grado en Ingenieria Informatica-Ingenieria de ...  Visual Computing (VC)  \n",
       "3  Grado en Ingenieria Informatica-Ingenieria de ...  Visual Computing (VC)  \n",
       "4  Grado en Ingenieria Informatica-Ingenieria de ...  Visual Computing (VC)  "
      ]
     },
     "execution_count": 35,
     "metadata": {},
     "output_type": "execute_result"
    }
   ],
   "source": [
    "# Assign each module a subject area from this list\n",
    "# - Visual Computing (VC)\n",
    "# - Software Systems and Engineering (SE)\n",
    "# - Scientific Computing (SC)\n",
    "# - Algorithmic Data Analysis and Machine Learning (AM)\n",
    "# - Algorithmics and Theoretical Computer Science (AT)\n",
    "# - Computer Engineering (CE)\n",
    "subject_areas = [\n",
    "    'Visual Computing (VC)',\n",
    "    'Software Systems and Engineering (SE)',\n",
    "    'Scientific Computing (SC)',\n",
    "    'Algorithmic Data Analysis and Machine Learning (AM)',\n",
    "    'Algorithmics and Theoretical Computer Science (AT)',\n",
    "    'Computer Engineering (CE)'\n",
    "]\n",
    "\n",
    "# Add a column to the dataframe with the subject area\n",
    "df['subject_area'] = df['name'].apply(lambda x: subject_areas[0])\n",
    "df.head()"
   ]
  },
  {
   "cell_type": "code",
   "execution_count": 36,
   "metadata": {},
   "outputs": [],
   "source": [
    "# Call the gpt api to assign each module a subject area from this list\n",
    "# - Visual Computing (VC)\n",
    "# - Software Systems and Engineering (SE)\n",
    "# - Scientific Computing (SC)\n",
    "# - Algorithmic Data Analysis and Machine Learning (AM)\n",
    "# - Algorithmics and Theoretical Computer Science (AT)\n",
    "# - Computer Engineering (CE)\n",
    "\n"
   ]
  },
  {
   "cell_type": "code",
   "execution_count": 37,
   "metadata": {},
   "outputs": [
    {
     "name": "stdout",
     "output_type": "stream",
     "text": [
      "Requirement already satisfied: setuptools in /Users/leonremke/miniconda3/envs/bomberman/lib/python3.11/site-packages (68.2.2)\n",
      "Requirement already satisfied: python-dotenv in /Users/leonremke/miniconda3/envs/bomberman/lib/python3.11/site-packages (1.0.0)\n"
     ]
    }
   ],
   "source": [
    "!pip install -U setuptools\n",
    "!pip install python-dotenv"
   ]
  },
  {
   "cell_type": "code",
   "execution_count": 38,
   "metadata": {},
   "outputs": [],
   "source": [
    "import os\n",
    "from openai import OpenAI\n",
    "from dotenv import load_dotenv, find_dotenv\n",
    "_ = load_dotenv(find_dotenv()) # read local .env file\n",
    "client = OpenAI(api_key = os.environ['OPEN_API_KEY'], organization=os.environ['ORG_ID'])"
   ]
  },
  {
   "cell_type": "code",
   "execution_count": 39,
   "metadata": {},
   "outputs": [],
   "source": [
    "def get_completion_from_messages(promt, model='gpt-3.5-turbo-instruct', temperature=0, max_tokens=4):\n",
    "    response = client.completions.create(\n",
    "    model=model,\n",
    "    prompt=promt,\n",
    "    temperature=temperature, \n",
    "    max_tokens=max_tokens,\n",
    "    )\n",
    "    completion = response.choices[0].text\n",
    "    # Remove newline and return characters\n",
    "    completion = completion.replace('\\n', '').replace('\\r', '')\n",
    "    return completion"
   ]
  },
  {
   "cell_type": "code",
   "execution_count": 40,
   "metadata": {},
   "outputs": [
    {
     "name": "stderr",
     "output_type": "stream",
     "text": [
      "  1%|          | 1/143 [00:00<01:44,  1.36it/s]"
     ]
    },
    {
     "name": "stdout",
     "output_type": "stream",
     "text": [
      "Module:  Fundamentos Fisicos de la Informatica  in subject area: Scientific Computing (SC)\n"
     ]
    },
    {
     "name": "stderr",
     "output_type": "stream",
     "text": [
      "  1%|▏         | 2/143 [00:01<01:27,  1.62it/s]"
     ]
    },
    {
     "name": "stdout",
     "output_type": "stream",
     "text": [
      "Module:  Calculo Infinitesimal y Numerico  in subject area: Scientific Computing (SC)\n"
     ]
    },
    {
     "name": "stderr",
     "output_type": "stream",
     "text": [
      "  2%|▏         | 3/143 [00:01<01:24,  1.66it/s]"
     ]
    },
    {
     "name": "stdout",
     "output_type": "stream",
     "text": [
      "Module:  Estadistica  in subject area: Algorithmic Data Analysis and Machine Learning (AM\n"
     ]
    },
    {
     "name": "stderr",
     "output_type": "stream",
     "text": [
      "  3%|▎         | 4/143 [00:02<01:12,  1.93it/s]"
     ]
    },
    {
     "name": "stdout",
     "output_type": "stream",
     "text": [
      "Module:  Estructura de Computadores  in subject area: Computer Engineering (CE)\n"
     ]
    },
    {
     "name": "stderr",
     "output_type": "stream",
     "text": [
      "  3%|▎         | 5/143 [00:02<01:04,  2.13it/s]"
     ]
    },
    {
     "name": "stdout",
     "output_type": "stream",
     "text": [
      "Module:  Arquitectura de Computadores  in subject area: Computer Engineering (CE)\n"
     ]
    },
    {
     "name": "stderr",
     "output_type": "stream",
     "text": [
      "  4%|▍         | 6/143 [00:03<01:04,  2.13it/s]"
     ]
    },
    {
     "name": "stdout",
     "output_type": "stream",
     "text": [
      "Module:  Matematica Discreta  in subject area: Algorithmics and Theoretical Computer Science (AT\n"
     ]
    },
    {
     "name": "stderr",
     "output_type": "stream",
     "text": [
      "  5%|▍         | 7/143 [00:03<01:04,  2.11it/s]"
     ]
    },
    {
     "name": "stdout",
     "output_type": "stream",
     "text": [
      "Module:  Redes de Computadores  in subject area: Computer Engineering (CE)\n"
     ]
    },
    {
     "name": "stderr",
     "output_type": "stream",
     "text": [
      "  6%|▌         | 8/143 [00:03<01:00,  2.24it/s]"
     ]
    },
    {
     "name": "stdout",
     "output_type": "stream",
     "text": [
      "Module:  Perifericos e Interfaces  in subject area: Computer Engineering (CE)\n"
     ]
    },
    {
     "name": "stderr",
     "output_type": "stream",
     "text": [
      "  6%|▋         | 9/143 [00:04<00:57,  2.35it/s]"
     ]
    },
    {
     "name": "stdout",
     "output_type": "stream",
     "text": [
      "Module:  Desarrollo de Aplicaciones Distribuidas  in subject area: Software Systems and Engineering (SE)\n"
     ]
    },
    {
     "name": "stderr",
     "output_type": "stream",
     "text": [
      "  7%|▋         | 10/143 [00:04<00:56,  2.36it/s]"
     ]
    },
    {
     "name": "stdout",
     "output_type": "stream",
     "text": [
      "Module:  Geometria Computacional  in subject area: Algorithmics and Theoretical Computer Science (AT\n"
     ]
    },
    {
     "name": "stderr",
     "output_type": "stream",
     "text": [
      "  8%|▊         | 11/143 [00:05<00:54,  2.42it/s]"
     ]
    },
    {
     "name": "stdout",
     "output_type": "stream",
     "text": [
      "Module:  Sistemas Empotrados y de Tiempo Real I  in subject area: Computer Engineering (CE)\n"
     ]
    },
    {
     "name": "stderr",
     "output_type": "stream",
     "text": [
      "  8%|▊         | 12/143 [00:05<00:53,  2.47it/s]"
     ]
    },
    {
     "name": "stdout",
     "output_type": "stream",
     "text": [
      "Module:  Estadistica Computacional  in subject area: Algorithmic Data Analysis and Machine Learning (AM\n"
     ]
    },
    {
     "name": "stderr",
     "output_type": "stream",
     "text": [
      "  9%|▉         | 13/143 [00:05<00:54,  2.39it/s]"
     ]
    },
    {
     "name": "stdout",
     "output_type": "stream",
     "text": [
      "Module:  Acceso Inteligente a la Informacion  in subject area: Algorithmic Data Analysis and Machine Learning (AM\n"
     ]
    },
    {
     "name": "stderr",
     "output_type": "stream",
     "text": [
      " 10%|▉         | 14/143 [00:06<00:53,  2.42it/s]"
     ]
    },
    {
     "name": "stdout",
     "output_type": "stream",
     "text": [
      "Module:  Aplicaciones de Soft Computing  in subject area: Algorithmic Data Analysis and Machine Learning (AM\n"
     ]
    },
    {
     "name": "stderr",
     "output_type": "stream",
     "text": [
      " 10%|█         | 15/143 [00:06<00:49,  2.56it/s]"
     ]
    },
    {
     "name": "stdout",
     "output_type": "stream",
     "text": [
      "Module:  Plataformas Hardware de Aplicacion Especifica  in subject area: Computer Engineering (CE)\n"
     ]
    },
    {
     "name": "stderr",
     "output_type": "stream",
     "text": [
      " 11%|█         | 16/143 [00:07<00:48,  2.63it/s]"
     ]
    },
    {
     "name": "stdout",
     "output_type": "stream",
     "text": [
      "Module:  Procesamiento de Imagenes Digitales  in subject area: Visual Computing (VC)\n"
     ]
    },
    {
     "name": "stderr",
     "output_type": "stream",
     "text": [
      " 12%|█▏        | 17/143 [00:07<01:01,  2.04it/s]"
     ]
    },
    {
     "name": "stdout",
     "output_type": "stream",
     "text": [
      "Module:  Robotica y Automatizacion  in subject area: Computer Engineering (CE)\n"
     ]
    },
    {
     "name": "stderr",
     "output_type": "stream",
     "text": [
      " 13%|█▎        | 18/143 [00:08<00:56,  2.20it/s]"
     ]
    },
    {
     "name": "stdout",
     "output_type": "stream",
     "text": [
      "Module:  Sistemas de Adquisicion y Control  in subject area: Computer Engineering (CE)\n"
     ]
    },
    {
     "name": "stderr",
     "output_type": "stream",
     "text": [
      " 13%|█▎        | 19/143 [00:08<00:52,  2.35it/s]"
     ]
    },
    {
     "name": "stdout",
     "output_type": "stream",
     "text": [
      "Module:  Teledeteccion  in subject area: Visual Computing (VC)\n"
     ]
    },
    {
     "name": "stderr",
     "output_type": "stream",
     "text": [
      " 14%|█▍        | 20/143 [00:09<00:53,  2.31it/s]"
     ]
    },
    {
     "name": "stdout",
     "output_type": "stream",
     "text": [
      "Module:  Trabajo Fin de Grado  in subject area: Software Systems and Engineering (SE)\n"
     ]
    },
    {
     "name": "stderr",
     "output_type": "stream",
     "text": [
      " 15%|█▍        | 21/143 [00:09<00:50,  2.42it/s]"
     ]
    },
    {
     "name": "stdout",
     "output_type": "stream",
     "text": [
      "Module:  Introduccion a la Ingenieria del Software y los Sistemas de Informacion II  in subject area: Software Systems and Engineering (SE)\n"
     ]
    },
    {
     "name": "stderr",
     "output_type": "stream",
     "text": [
      " 15%|█▌        | 22/143 [00:09<00:47,  2.53it/s]"
     ]
    },
    {
     "name": "stdout",
     "output_type": "stream",
     "text": [
      "Module:  Arquitectura y Tecnologia de Redes II  in subject area: Computer Engineering (CE)\n"
     ]
    },
    {
     "name": "stderr",
     "output_type": "stream",
     "text": [
      " 16%|█▌        | 23/143 [00:10<00:47,  2.51it/s]"
     ]
    },
    {
     "name": "stdout",
     "output_type": "stream",
     "text": [
      "Module:  Administracion de Empresas  in subject area: Administracion de Empresas does not belong to\n"
     ]
    },
    {
     "name": "stderr",
     "output_type": "stream",
     "text": [
      " 17%|█▋        | 24/143 [00:10<00:46,  2.54it/s]"
     ]
    },
    {
     "name": "stdout",
     "output_type": "stream",
     "text": [
      "Module:  Algebra Lineal y Numerica  in subject area: Scientific Computing (SC)\n"
     ]
    },
    {
     "name": "stderr",
     "output_type": "stream",
     "text": [
      " 17%|█▋        | 25/143 [00:10<00:47,  2.50it/s]"
     ]
    },
    {
     "name": "stdout",
     "output_type": "stream",
     "text": [
      "Module:  Estadistica  in subject area: Algorithmic Data Analysis and Machine Learning (AM\n"
     ]
    },
    {
     "name": "stderr",
     "output_type": "stream",
     "text": [
      " 18%|█▊        | 26/143 [00:11<00:45,  2.58it/s]"
     ]
    },
    {
     "name": "stdout",
     "output_type": "stream",
     "text": [
      "Module:  Estructura de Computadores  in subject area: Computer Engineering (CE)\n"
     ]
    },
    {
     "name": "stderr",
     "output_type": "stream",
     "text": [
      " 19%|█▉        | 27/143 [00:11<00:43,  2.64it/s]"
     ]
    },
    {
     "name": "stdout",
     "output_type": "stream",
     "text": [
      "Module:  Arquitectura de Computadores  in subject area: Computer Engineering (CE)\n"
     ]
    },
    {
     "name": "stderr",
     "output_type": "stream",
     "text": [
      " 20%|█▉        | 28/143 [00:12<00:43,  2.67it/s]"
     ]
    },
    {
     "name": "stdout",
     "output_type": "stream",
     "text": [
      "Module:  Arquitectura e Integracion de Sistemas Software  in subject area: Software Systems and Engineering (SE)\n"
     ]
    },
    {
     "name": "stderr",
     "output_type": "stream",
     "text": [
      " 20%|██        | 29/143 [00:12<00:43,  2.60it/s]"
     ]
    },
    {
     "name": "stdout",
     "output_type": "stream",
     "text": [
      "Module:  Matematica Discreta  in subject area: Algorithmics and Theoretical Computer Science (AT\n"
     ]
    },
    {
     "name": "stderr",
     "output_type": "stream",
     "text": [
      " 21%|██        | 30/143 [00:12<00:42,  2.67it/s]"
     ]
    },
    {
     "name": "stdout",
     "output_type": "stream",
     "text": [
      "Module:  Arquitectura y Servicios de Redes  in subject area: Computer Engineering (CE)\n"
     ]
    },
    {
     "name": "stderr",
     "output_type": "stream",
     "text": [
      " 22%|██▏       | 31/143 [00:13<00:42,  2.62it/s]"
     ]
    },
    {
     "name": "stdout",
     "output_type": "stream",
     "text": [
      "Module:  Inteligencia Artificial  in subject area: Algorithmic Data Analysis and Machine Learning (AM\n"
     ]
    },
    {
     "name": "stderr",
     "output_type": "stream",
     "text": [
      " 22%|██▏       | 32/143 [00:13<00:42,  2.61it/s]"
     ]
    },
    {
     "name": "stdout",
     "output_type": "stream",
     "text": [
      "Module:  Modelado y Visualizacion Grafica  in subject area: Visual Computing (VC)\n"
     ]
    },
    {
     "name": "stderr",
     "output_type": "stream",
     "text": [
      " 23%|██▎       | 33/143 [00:13<00:43,  2.54it/s]"
     ]
    },
    {
     "name": "stdout",
     "output_type": "stream",
     "text": [
      "Module:  Complementos de Bases de Datos  in subject area: Software Systems and Engineering (SE)\n"
     ]
    },
    {
     "name": "stderr",
     "output_type": "stream",
     "text": [
      " 24%|██▍       | 34/143 [00:14<00:43,  2.53it/s]"
     ]
    },
    {
     "name": "stdout",
     "output_type": "stream",
     "text": [
      "Module:  Estadistica Computacional  in subject area: Algorithmic Data Analysis and Machine Learning (AM\n"
     ]
    },
    {
     "name": "stderr",
     "output_type": "stream",
     "text": [
      " 24%|██▍       | 35/143 [00:14<00:42,  2.57it/s]"
     ]
    },
    {
     "name": "stdout",
     "output_type": "stream",
     "text": [
      "Module:  Ingenieria del Software y Practica Profesional  in subject area: Software Systems and Engineering (SE)\n"
     ]
    },
    {
     "name": "stderr",
     "output_type": "stream",
     "text": [
      " 25%|██▌       | 36/143 [00:15<00:42,  2.50it/s]"
     ]
    },
    {
     "name": "stdout",
     "output_type": "stream",
     "text": [
      "Module:  Optimizacion de Sistemas  in subject area: Algorithmic Data Analysis and Machine Learning (AM\n"
     ]
    },
    {
     "name": "stderr",
     "output_type": "stream",
     "text": [
      " 26%|██▌       | 37/143 [00:15<00:41,  2.56it/s]"
     ]
    },
    {
     "name": "stdout",
     "output_type": "stream",
     "text": [
      "Module:  Procesamiento de Imagenes Digitales  in subject area: Visual Computing (VC)\n"
     ]
    },
    {
     "name": "stderr",
     "output_type": "stream",
     "text": [
      " 27%|██▋       | 38/143 [00:15<00:41,  2.53it/s]"
     ]
    },
    {
     "name": "stdout",
     "output_type": "stream",
     "text": [
      "Module:  Seguridad en Sistemas Informaticos y en Internet  in subject area: Software Systems and Engineering (SE)\n"
     ]
    },
    {
     "name": "stderr",
     "output_type": "stream",
     "text": [
      " 27%|██▋       | 39/143 [00:16<00:41,  2.52it/s]"
     ]
    },
    {
     "name": "stdout",
     "output_type": "stream",
     "text": [
      "Module:  Teledeteccion  in subject area: Visual Computing (VC)\n"
     ]
    },
    {
     "name": "stderr",
     "output_type": "stream",
     "text": [
      " 28%|██▊       | 40/143 [00:16<00:41,  2.51it/s]"
     ]
    },
    {
     "name": "stdout",
     "output_type": "stream",
     "text": [
      "Module:  Trabajo Fin de Grado  in subject area: Software Systems and Engineering (SE)\n"
     ]
    },
    {
     "name": "stderr",
     "output_type": "stream",
     "text": [
      " 29%|██▊       | 41/143 [00:17<00:40,  2.50it/s]"
     ]
    },
    {
     "name": "stdout",
     "output_type": "stream",
     "text": [
      "Module:  Introduccion a la Ingenieria del Software y los Sistemas de Informacion II  in subject area: Software Systems and Engineering (SE)\n"
     ]
    },
    {
     "name": "stderr",
     "output_type": "stream",
     "text": [
      " 29%|██▉       | 42/143 [00:17<00:39,  2.53it/s]"
     ]
    },
    {
     "name": "stdout",
     "output_type": "stream",
     "text": [
      "Module:  Diseno y Pruebas II  in subject area: Software Systems and Engineering (SE)\n"
     ]
    },
    {
     "name": "stderr",
     "output_type": "stream",
     "text": [
      " 30%|███       | 43/143 [00:17<00:39,  2.52it/s]"
     ]
    },
    {
     "name": "stdout",
     "output_type": "stream",
     "text": [
      "Module:  Proceso Software y Gestion II  in subject area: Software Systems and Engineering (SE)\n"
     ]
    },
    {
     "name": "stderr",
     "output_type": "stream",
     "text": [
      " 31%|███       | 44/143 [00:18<00:39,  2.51it/s]"
     ]
    },
    {
     "name": "stdout",
     "output_type": "stream",
     "text": [
      "Module:  Inteligencia Artificial  in subject area: Algorithmic Data Analysis and Machine Learning (AM\n"
     ]
    },
    {
     "name": "stderr",
     "output_type": "stream",
     "text": [
      " 31%|███▏      | 45/143 [00:18<00:38,  2.57it/s]"
     ]
    },
    {
     "name": "stdout",
     "output_type": "stream",
     "text": [
      "Module:  Arquitectura de Computadores  in subject area: Computer Engineering (CE)\n"
     ]
    },
    {
     "name": "stderr",
     "output_type": "stream",
     "text": [
      " 32%|███▏      | 46/143 [00:19<00:37,  2.57it/s]"
     ]
    },
    {
     "name": "stdout",
     "output_type": "stream",
     "text": [
      "Module:  Ingenieria del Software y Practica Profesional  in subject area: Software Systems and Engineering (SE)\n"
     ]
    },
    {
     "name": "stderr",
     "output_type": "stream",
     "text": [
      " 33%|███▎      | 47/143 [00:19<00:37,  2.56it/s]"
     ]
    },
    {
     "name": "stdout",
     "output_type": "stream",
     "text": [
      "Module:  Proceso Software y Gestion II  in subject area: Software Systems and Engineering (SE)\n"
     ]
    },
    {
     "name": "stderr",
     "output_type": "stream",
     "text": [
      " 34%|███▎      | 48/143 [00:19<00:39,  2.38it/s]"
     ]
    },
    {
     "name": "stdout",
     "output_type": "stream",
     "text": [
      "Module:  Administracion de Empresas  in subject area: Administracion de Empresas does not belong to\n"
     ]
    },
    {
     "name": "stderr",
     "output_type": "stream",
     "text": [
      " 34%|███▍      | 49/143 [00:20<00:38,  2.42it/s]"
     ]
    },
    {
     "name": "stdout",
     "output_type": "stream",
     "text": [
      "Module:  Algebra Lineal y Numerica  in subject area: Scientific Computing (SC)\n"
     ]
    },
    {
     "name": "stderr",
     "output_type": "stream",
     "text": [
      " 35%|███▍      | 50/143 [00:20<00:41,  2.25it/s]"
     ]
    },
    {
     "name": "stdout",
     "output_type": "stream",
     "text": [
      "Module:  Estadistica  in subject area: Algorithmic Data Analysis and Machine Learning (AM\n"
     ]
    },
    {
     "name": "stderr",
     "output_type": "stream",
     "text": [
      " 36%|███▌      | 51/143 [00:21<00:39,  2.33it/s]"
     ]
    },
    {
     "name": "stdout",
     "output_type": "stream",
     "text": [
      "Module:  Estructura de Computadores  in subject area: Computer Engineering (CE)\n"
     ]
    },
    {
     "name": "stderr",
     "output_type": "stream",
     "text": [
      " 36%|███▋      | 52/143 [00:21<00:38,  2.39it/s]"
     ]
    },
    {
     "name": "stdout",
     "output_type": "stream",
     "text": [
      "Module:  Arquitectura de Computadores  in subject area: Computer Engineering (CE)\n"
     ]
    },
    {
     "name": "stderr",
     "output_type": "stream",
     "text": [
      " 37%|███▋      | 53/143 [00:22<00:36,  2.47it/s]"
     ]
    },
    {
     "name": "stdout",
     "output_type": "stream",
     "text": [
      "Module:  Arquitectura de Redes  in subject area: Computer Engineering (CE)\n"
     ]
    },
    {
     "name": "stderr",
     "output_type": "stream",
     "text": [
      " 38%|███▊      | 54/143 [00:22<00:36,  2.46it/s]"
     ]
    },
    {
     "name": "stdout",
     "output_type": "stream",
     "text": [
      "Module:  Sistemas Operativos  in subject area: Software Systems and Engineering (SE)\n"
     ]
    },
    {
     "name": "stderr",
     "output_type": "stream",
     "text": [
      " 38%|███▊      | 55/143 [00:22<00:37,  2.37it/s]"
     ]
    },
    {
     "name": "stdout",
     "output_type": "stream",
     "text": [
      "Module:  Ampliacion de Inteligencia Artificial  in subject area: Algorithmic Data Analysis and Machine Learning (AM\n"
     ]
    },
    {
     "name": "stderr",
     "output_type": "stream",
     "text": [
      " 39%|███▉      | 56/143 [00:23<00:36,  2.38it/s]"
     ]
    },
    {
     "name": "stdout",
     "output_type": "stream",
     "text": [
      "Module:  Arquitectura de Sistemas Distribuidos  in subject area: Software Systems and Engineering (SE)\n"
     ]
    },
    {
     "name": "stderr",
     "output_type": "stream",
     "text": [
      " 40%|███▉      | 57/143 [00:23<00:35,  2.43it/s]"
     ]
    },
    {
     "name": "stdout",
     "output_type": "stream",
     "text": [
      "Module:  Matematica Aplicada a Sistemas de Informacion  in subject area: Scientific Computing (SC)\n"
     ]
    },
    {
     "name": "stderr",
     "output_type": "stream",
     "text": [
      " 41%|████      | 58/143 [00:24<00:34,  2.47it/s]"
     ]
    },
    {
     "name": "stdout",
     "output_type": "stream",
     "text": [
      "Module:  Sistemas de Informacion Empresariales  in subject area: Software Systems and Engineering (SE)\n"
     ]
    },
    {
     "name": "stderr",
     "output_type": "stream",
     "text": [
      " 41%|████▏     | 59/143 [00:24<00:34,  2.45it/s]"
     ]
    },
    {
     "name": "stdout",
     "output_type": "stream",
     "text": [
      "Module:  Sistemas Inteligentes  in subject area: Algorithmic Data Analysis and Machine Learning (AM\n"
     ]
    },
    {
     "name": "stderr",
     "output_type": "stream",
     "text": [
      " 42%|████▏     | 60/143 [00:24<00:33,  2.47it/s]"
     ]
    },
    {
     "name": "stdout",
     "output_type": "stream",
     "text": [
      "Module:  Sistemas Orientados a Servicios  in subject area: Software Systems and Engineering (SE)\n"
     ]
    },
    {
     "name": "stderr",
     "output_type": "stream",
     "text": [
      " 43%|████▎     | 61/143 [00:25<00:33,  2.46it/s]"
     ]
    },
    {
     "name": "stdout",
     "output_type": "stream",
     "text": [
      "Module:  Acceso Inteligente a la Informacion  in subject area: Algorithmic Data Analysis and Machine Learning (AM\n"
     ]
    },
    {
     "name": "stderr",
     "output_type": "stream",
     "text": [
      " 43%|████▎     | 62/143 [00:25<00:34,  2.34it/s]"
     ]
    },
    {
     "name": "stdout",
     "output_type": "stream",
     "text": [
      "Module:  Aplicaciones de Soft Computing  in subject area: Algorithmic Data Analysis and Machine Learning (AM\n"
     ]
    },
    {
     "name": "stderr",
     "output_type": "stream",
     "text": [
      " 44%|████▍     | 63/143 [00:26<00:34,  2.30it/s]"
     ]
    },
    {
     "name": "stdout",
     "output_type": "stream",
     "text": [
      "Module:  Computacion Movil  in subject area: Software Systems and Engineering (SE)\n"
     ]
    },
    {
     "name": "stderr",
     "output_type": "stream",
     "text": [
      " 45%|████▍     | 64/143 [00:26<00:33,  2.36it/s]"
     ]
    },
    {
     "name": "stdout",
     "output_type": "stream",
     "text": [
      "Module:  Criptografia  in subject area: Algorithmics and Theoretical Computer Science (AT\n"
     ]
    },
    {
     "name": "stderr",
     "output_type": "stream",
     "text": [
      " 45%|████▌     | 65/143 [00:27<00:32,  2.40it/s]"
     ]
    },
    {
     "name": "stdout",
     "output_type": "stream",
     "text": [
      "Module:  Estadistica Computacional  in subject area: Algorithmic Data Analysis and Machine Learning (AM\n"
     ]
    },
    {
     "name": "stderr",
     "output_type": "stream",
     "text": [
      " 46%|████▌     | 66/143 [00:27<00:31,  2.42it/s]"
     ]
    },
    {
     "name": "stdout",
     "output_type": "stream",
     "text": [
      "Module:  Gestion de la Produccion  in subject area: Software Systems and Engineering (SE)\n"
     ]
    },
    {
     "name": "stderr",
     "output_type": "stream",
     "text": [
      " 47%|████▋     | 67/143 [00:27<00:31,  2.45it/s]"
     ]
    },
    {
     "name": "stdout",
     "output_type": "stream",
     "text": [
      "Module:  Inteligencia Empresarial  in subject area: Algorithmic Data Analysis and Machine Learning (AM\n"
     ]
    },
    {
     "name": "stderr",
     "output_type": "stream",
     "text": [
      " 48%|████▊     | 68/143 [00:28<00:30,  2.47it/s]"
     ]
    },
    {
     "name": "stdout",
     "output_type": "stream",
     "text": [
      "Module:  Modelado y Analisis de Requisitos en Sistemas de Informacion  in subject area: Software Systems and Engineering (SE)\n"
     ]
    },
    {
     "name": "stderr",
     "output_type": "stream",
     "text": [
      " 48%|████▊     | 69/143 [00:28<00:30,  2.45it/s]"
     ]
    },
    {
     "name": "stdout",
     "output_type": "stream",
     "text": [
      "Module:  Modelos de Computacion y Complejidad  in subject area: Algorithmics and Theoretical Computer Science (AT\n"
     ]
    },
    {
     "name": "stderr",
     "output_type": "stream",
     "text": [
      " 49%|████▉     | 70/143 [00:29<00:30,  2.40it/s]"
     ]
    },
    {
     "name": "stdout",
     "output_type": "stream",
     "text": [
      "Module:  Tecnologia, Informatica y Sociedad  in subject area: Software Systems and Engineering (SE)\n"
     ]
    },
    {
     "name": "stderr",
     "output_type": "stream",
     "text": [
      " 50%|████▉     | 71/143 [00:29<00:29,  2.44it/s]"
     ]
    },
    {
     "name": "stdout",
     "output_type": "stream",
     "text": [
      "Module:  Trabajo Fin de Grado  in subject area: Software Systems and Engineering (SE)\n"
     ]
    },
    {
     "name": "stderr",
     "output_type": "stream",
     "text": [
      " 50%|█████     | 72/143 [00:29<00:28,  2.45it/s]"
     ]
    },
    {
     "name": "stdout",
     "output_type": "stream",
     "text": [
      "Module:  Introduccion a la Ingenieria del Software y los Sistemas de Informacion II  in subject area: Software Systems and Engineering (SE)\n"
     ]
    },
    {
     "name": "stderr",
     "output_type": "stream",
     "text": [
      " 51%|█████     | 73/143 [00:30<00:27,  2.56it/s]"
     ]
    },
    {
     "name": "stdout",
     "output_type": "stream",
     "text": [
      "Module:  Ampliacion de Calculo  in subject area: Scientific Computing (SC)\n"
     ]
    },
    {
     "name": "stderr",
     "output_type": "stream",
     "text": [
      " 52%|█████▏    | 74/143 [00:30<00:27,  2.48it/s]"
     ]
    },
    {
     "name": "stdout",
     "output_type": "stream",
     "text": [
      "Module:  Estadistica  in subject area: Algorithmic Data Analysis and Machine Learning (AM\n"
     ]
    },
    {
     "name": "stderr",
     "output_type": "stream",
     "text": [
      " 52%|█████▏    | 75/143 [00:31<00:26,  2.57it/s]"
     ]
    },
    {
     "name": "stdout",
     "output_type": "stream",
     "text": [
      "Module:  Fisica II  in subject area: Scientific Computing (SC)\n"
     ]
    },
    {
     "name": "stderr",
     "output_type": "stream",
     "text": [
      " 53%|█████▎    | 76/143 [00:31<00:26,  2.49it/s]"
     ]
    },
    {
     "name": "stdout",
     "output_type": "stream",
     "text": [
      "Module:  Gestion de Empresas  in subject area: None of the above. \"Gestion de\n"
     ]
    },
    {
     "name": "stderr",
     "output_type": "stream",
     "text": [
      " 54%|█████▍    | 77/143 [00:31<00:26,  2.52it/s]"
     ]
    },
    {
     "name": "stdout",
     "output_type": "stream",
     "text": [
      "Module:  Programacion Orientada a Objetos  in subject area: Software Systems and Engineering (SE)\n"
     ]
    },
    {
     "name": "stderr",
     "output_type": "stream",
     "text": [
      " 55%|█████▍    | 78/143 [00:32<00:25,  2.56it/s]"
     ]
    },
    {
     "name": "stdout",
     "output_type": "stream",
     "text": [
      "Module:  Anatomia y Fisiologia  in subject area: Anatomia y Fisiologia does not\n"
     ]
    },
    {
     "name": "stderr",
     "output_type": "stream",
     "text": [
      " 55%|█████▌    | 79/143 [00:32<00:24,  2.62it/s]"
     ]
    },
    {
     "name": "stdout",
     "output_type": "stream",
     "text": [
      "Module:  Arquitectura de Computadores y Sistemas Operativos  in subject area: Computer Engineering (CE)\n"
     ]
    },
    {
     "name": "stderr",
     "output_type": "stream",
     "text": [
      " 56%|█████▌    | 80/143 [00:33<00:24,  2.60it/s]"
     ]
    },
    {
     "name": "stdout",
     "output_type": "stream",
     "text": [
      "Module:  Bases de Datos  in subject area: Software Systems and Engineering (SE)\n"
     ]
    },
    {
     "name": "stderr",
     "output_type": "stream",
     "text": [
      " 57%|█████▋    | 81/143 [00:33<00:24,  2.54it/s]"
     ]
    },
    {
     "name": "stdout",
     "output_type": "stream",
     "text": [
      "Module:  Biologia Celular y Genetica  in subject area: None of the above. \"Biologia Cel\n"
     ]
    },
    {
     "name": "stderr",
     "output_type": "stream",
     "text": [
      " 57%|█████▋    | 82/143 [00:33<00:23,  2.55it/s]"
     ]
    },
    {
     "name": "stdout",
     "output_type": "stream",
     "text": [
      "Module:  Control Automatico  in subject area: Control Automatico belongs to the subject area \"\n"
     ]
    },
    {
     "name": "stderr",
     "output_type": "stream",
     "text": [
      " 58%|█████▊    | 83/143 [00:34<00:23,  2.52it/s]"
     ]
    },
    {
     "name": "stdout",
     "output_type": "stream",
     "text": [
      "Module:  Analisis Avanzado de Datos Clinicos  in subject area: Algorithmic Data Analysis and Machine Learning (AM\n"
     ]
    },
    {
     "name": "stderr",
     "output_type": "stream",
     "text": [
      " 59%|█████▊    | 84/143 [00:34<00:23,  2.54it/s]"
     ]
    },
    {
     "name": "stdout",
     "output_type": "stream",
     "text": [
      "Module:  Biomateriales  in subject area: Biomateriales does not belong to any\n"
     ]
    },
    {
     "name": "stderr",
     "output_type": "stream",
     "text": [
      " 59%|█████▉    | 85/143 [00:34<00:22,  2.59it/s]"
     ]
    },
    {
     "name": "stdout",
     "output_type": "stream",
     "text": [
      "Module:  Biomecanica I: Solidos  in subject area: Scientific Computing (SC)\n"
     ]
    },
    {
     "name": "stderr",
     "output_type": "stream",
     "text": [
      " 60%|██████    | 86/143 [00:35<00:22,  2.51it/s]"
     ]
    },
    {
     "name": "stdout",
     "output_type": "stream",
     "text": [
      "Module:  Biomecanica II: Fluidos  in subject area: Scientific Computing (SC)\n"
     ]
    },
    {
     "name": "stderr",
     "output_type": "stream",
     "text": [
      " 61%|██████    | 87/143 [00:35<00:22,  2.53it/s]"
     ]
    },
    {
     "name": "stdout",
     "output_type": "stream",
     "text": [
      "Module:  Biotecnologia  in subject area: Biotecnologia does not belong to any\n"
     ]
    },
    {
     "name": "stderr",
     "output_type": "stream",
     "text": [
      " 62%|██████▏   | 88/143 [00:36<00:21,  2.55it/s]"
     ]
    },
    {
     "name": "stdout",
     "output_type": "stream",
     "text": [
      "Module:  Ciencia y Resistencia de Materiales  in subject area: Ciencia y Resistencia de Materiales\n"
     ]
    },
    {
     "name": "stderr",
     "output_type": "stream",
     "text": [
      " 62%|██████▏   | 89/143 [00:36<00:20,  2.61it/s]"
     ]
    },
    {
     "name": "stdout",
     "output_type": "stream",
     "text": [
      "Module:  Codificacion y Gestion de la Informacion Sanitaria  in subject area: Software Systems and Engineering (SE)\n"
     ]
    },
    {
     "name": "stderr",
     "output_type": "stream",
     "text": [
      " 63%|██████▎   | 90/143 [00:36<00:20,  2.57it/s]"
     ]
    },
    {
     "name": "stdout",
     "output_type": "stream",
     "text": [
      "Module:  Diseno e Implementacion de Sistemas de Informacion Clinica  in subject area: Software Systems and Engineering (SE)\n"
     ]
    },
    {
     "name": "stderr",
     "output_type": "stream",
     "text": [
      " 64%|██████▎   | 91/143 [00:37<00:19,  2.62it/s]"
     ]
    },
    {
     "name": "stdout",
     "output_type": "stream",
     "text": [
      "Module:  Infraestructuras de Sistemas de Informacion  in subject area: Software Systems and Engineering (SE)\n"
     ]
    },
    {
     "name": "stderr",
     "output_type": "stream",
     "text": [
      " 64%|██████▍   | 92/143 [00:37<00:19,  2.56it/s]"
     ]
    },
    {
     "name": "stdout",
     "output_type": "stream",
     "text": [
      "Module:  Instrumentacion Biomedica  in subject area: Instrumentacion Biomedica belongs to the subject\n"
     ]
    },
    {
     "name": "stderr",
     "output_type": "stream",
     "text": [
      " 65%|██████▌   | 93/143 [00:38<00:19,  2.60it/s]"
     ]
    },
    {
     "name": "stdout",
     "output_type": "stream",
     "text": [
      "Module:  Salud Publica y Organizacion Sanitaria  in subject area: Salud Publica y Organizacion Sanit\n"
     ]
    },
    {
     "name": "stderr",
     "output_type": "stream",
     "text": [
      " 66%|██████▌   | 94/143 [00:38<00:20,  2.41it/s]"
     ]
    },
    {
     "name": "stdout",
     "output_type": "stream",
     "text": [
      "Module:  Seguridad, Confidencialidad y Gestion de la Identidad  in subject area: Software Systems and Engineering (SE)\n"
     ]
    },
    {
     "name": "stderr",
     "output_type": "stream",
     "text": [
      " 66%|██████▋   | 95/143 [00:39<00:20,  2.36it/s]"
     ]
    },
    {
     "name": "stdout",
     "output_type": "stream",
     "text": [
      "Module:  Mineria de Datos Clinicos  in subject area: Algorithmic Data Analysis and Machine Learning (AM\n"
     ]
    },
    {
     "name": "stderr",
     "output_type": "stream",
     "text": [
      " 67%|██████▋   | 96/143 [00:39<00:19,  2.41it/s]"
     ]
    },
    {
     "name": "stdout",
     "output_type": "stream",
     "text": [
      "Module:  Biosenales Medicas  in subject area: Scientific Computing (SC)\n"
     ]
    },
    {
     "name": "stderr",
     "output_type": "stream",
     "text": [
      " 68%|██████▊   | 97/143 [00:39<00:18,  2.45it/s]"
     ]
    },
    {
     "name": "stdout",
     "output_type": "stream",
     "text": [
      "Module:  Etica y Legislacion en Salud  in subject area: None of the above.\n"
     ]
    },
    {
     "name": "stderr",
     "output_type": "stream",
     "text": [
      " 69%|██████▊   | 98/143 [00:40<00:17,  2.51it/s]"
     ]
    },
    {
     "name": "stdout",
     "output_type": "stream",
     "text": [
      "Module:  Microtecnologia y Nanotecnologia en Biomedicina  in subject area: Computer Engineering (CE)\n"
     ]
    },
    {
     "name": "stderr",
     "output_type": "stream",
     "text": [
      " 69%|██████▉   | 99/143 [00:40<00:17,  2.50it/s]"
     ]
    },
    {
     "name": "stdout",
     "output_type": "stream",
     "text": [
      "Module:  Practicas Externas  in subject area: Software Systems and Engineering (SE)\n"
     ]
    },
    {
     "name": "stderr",
     "output_type": "stream",
     "text": [
      " 70%|██████▉   | 100/143 [00:40<00:17,  2.48it/s]"
     ]
    },
    {
     "name": "stdout",
     "output_type": "stream",
     "text": [
      "Module:  Proyectos en Informatica Clinica  in subject area: Software Systems and Engineering (SE)\n"
     ]
    },
    {
     "name": "stderr",
     "output_type": "stream",
     "text": [
      " 71%|███████   | 101/143 [00:41<00:16,  2.57it/s]"
     ]
    },
    {
     "name": "stdout",
     "output_type": "stream",
     "text": [
      "Module:  Proyectos en Ingenieria Biomedica  in subject area: Computer Engineering (CE)\n"
     ]
    },
    {
     "name": "stderr",
     "output_type": "stream",
     "text": [
      " 71%|███████▏  | 102/143 [00:41<00:16,  2.48it/s]"
     ]
    },
    {
     "name": "stdout",
     "output_type": "stream",
     "text": [
      "Module:  Seguridad, Etica y Regulacion en Ingenieria Biomedica  in subject area: Software Systems and Engineering (SE)\n"
     ]
    },
    {
     "name": "stderr",
     "output_type": "stream",
     "text": [
      " 72%|███████▏  | 103/143 [00:42<00:16,  2.45it/s]"
     ]
    },
    {
     "name": "stdout",
     "output_type": "stream",
     "text": [
      "Module:  Sistemas de Informacion para Teleasistencia y Atencion Remota  in subject area: Software Systems and Engineering (SE)\n"
     ]
    },
    {
     "name": "stderr",
     "output_type": "stream",
     "text": [
      " 73%|███████▎  | 104/143 [00:42<00:16,  2.43it/s]"
     ]
    },
    {
     "name": "stdout",
     "output_type": "stream",
     "text": [
      "Module:  Telemedicina  in subject area: Telemedicina belongs to the subject area \"\n"
     ]
    },
    {
     "name": "stderr",
     "output_type": "stream",
     "text": [
      " 73%|███████▎  | 105/143 [00:43<00:15,  2.43it/s]"
     ]
    },
    {
     "name": "stdout",
     "output_type": "stream",
     "text": [
      "Module:  Trabajo Fin de Grado  in subject area: Software Systems and Engineering (SE)\n"
     ]
    },
    {
     "name": "stderr",
     "output_type": "stream",
     "text": [
      " 74%|███████▍  | 106/143 [00:43<00:15,  2.45it/s]"
     ]
    },
    {
     "name": "stdout",
     "output_type": "stream",
     "text": [
      "Module:  Administracion de Empresas  in subject area: Administracion de Empresas does not belong to\n"
     ]
    },
    {
     "name": "stderr",
     "output_type": "stream",
     "text": [
      " 75%|███████▍  | 107/143 [00:43<00:14,  2.56it/s]"
     ]
    },
    {
     "name": "stdout",
     "output_type": "stream",
     "text": [
      "Module:  Calculo Numerico I  in subject area: Scientific Computing (SC)\n"
     ]
    },
    {
     "name": "stderr",
     "output_type": "stream",
     "text": [
      " 76%|███████▌  | 108/143 [00:44<00:13,  2.62it/s]"
     ]
    },
    {
     "name": "stdout",
     "output_type": "stream",
     "text": [
      "Module:  Estructura de Computadores  in subject area: Computer Engineering (CE)\n"
     ]
    },
    {
     "name": "stderr",
     "output_type": "stream",
     "text": [
      " 76%|███████▌  | 109/143 [00:44<00:12,  2.66it/s]"
     ]
    },
    {
     "name": "stdout",
     "output_type": "stream",
     "text": [
      "Module:  Calculo Numerico II  in subject area: Scientific Computing (SC)\n"
     ]
    },
    {
     "name": "stderr",
     "output_type": "stream",
     "text": [
      " 77%|███████▋  | 110/143 [00:44<00:12,  2.61it/s]"
     ]
    },
    {
     "name": "stdout",
     "output_type": "stream",
     "text": [
      "Module:  Ecuaciones Diferenciales Ordinarias  in subject area: Scientific Computing (SC)\n"
     ]
    },
    {
     "name": "stderr",
     "output_type": "stream",
     "text": [
      " 78%|███████▊  | 111/143 [00:45<00:12,  2.65it/s]"
     ]
    },
    {
     "name": "stdout",
     "output_type": "stream",
     "text": [
      "Module:  Fisica II  in subject area: Scientific Computing (SC)\n"
     ]
    },
    {
     "name": "stderr",
     "output_type": "stream",
     "text": [
      " 78%|███████▊  | 112/143 [00:45<00:11,  2.60it/s]"
     ]
    },
    {
     "name": "stdout",
     "output_type": "stream",
     "text": [
      "Module:  Integracion de Funciones de Varias Variables  in subject area: Algorithmic Data Analysis and Machine Learning (AM\n"
     ]
    },
    {
     "name": "stderr",
     "output_type": "stream",
     "text": [
      " 79%|███████▉  | 113/143 [00:46<00:11,  2.69it/s]"
     ]
    },
    {
     "name": "stdout",
     "output_type": "stream",
     "text": [
      "Module:  Arquitectura de Computadores  in subject area: Computer Engineering (CE)\n"
     ]
    },
    {
     "name": "stderr",
     "output_type": "stream",
     "text": [
      " 80%|███████▉  | 114/143 [00:46<00:10,  2.74it/s]"
     ]
    },
    {
     "name": "stdout",
     "output_type": "stream",
     "text": [
      "Module:  Arquitectura de Redes  in subject area: Computer Engineering (CE)\n"
     ]
    },
    {
     "name": "stderr",
     "output_type": "stream",
     "text": [
      " 80%|████████  | 115/143 [00:46<00:10,  2.59it/s]"
     ]
    },
    {
     "name": "stdout",
     "output_type": "stream",
     "text": [
      "Module:  Inteligencia Empresarial  in subject area: Algorithmic Data Analysis and Machine Learning (AM\n"
     ]
    },
    {
     "name": "stderr",
     "output_type": "stream",
     "text": [
      " 81%|████████  | 116/143 [00:47<00:10,  2.56it/s]"
     ]
    },
    {
     "name": "stdout",
     "output_type": "stream",
     "text": [
      "Module:  Programacion Matematica  in subject area: Algorithmic Data Analysis and Machine Learning (AM\n"
     ]
    },
    {
     "name": "stderr",
     "output_type": "stream",
     "text": [
      " 82%|████████▏ | 117/143 [00:47<00:10,  2.45it/s]"
     ]
    },
    {
     "name": "stdout",
     "output_type": "stream",
     "text": [
      "Module:  Sistemas de Informacion Empresariales  in subject area: Software Systems and Engineering (SE)\n"
     ]
    },
    {
     "name": "stderr",
     "output_type": "stream",
     "text": [
      " 83%|████████▎ | 118/143 [00:48<00:10,  2.44it/s]"
     ]
    },
    {
     "name": "stdout",
     "output_type": "stream",
     "text": [
      "Module:  Sistemas Inteligentes  in subject area: Algorithmic Data Analysis and Machine Learning (AM\n"
     ]
    },
    {
     "name": "stderr",
     "output_type": "stream",
     "text": [
      " 83%|████████▎ | 119/143 [00:48<00:09,  2.44it/s]"
     ]
    },
    {
     "name": "stdout",
     "output_type": "stream",
     "text": [
      "Module:  Teoria de la Probabilidad  in subject area: Algorithmic Data Analysis and Machine Learning (AM\n"
     ]
    },
    {
     "name": "stderr",
     "output_type": "stream",
     "text": [
      " 84%|████████▍ | 120/143 [00:48<00:09,  2.42it/s]"
     ]
    },
    {
     "name": "stdout",
     "output_type": "stream",
     "text": [
      "Module:  Acceso Inteligente a la Informacion  in subject area: Algorithmic Data Analysis and Machine Learning (AM\n"
     ]
    },
    {
     "name": "stderr",
     "output_type": "stream",
     "text": [
      " 85%|████████▍ | 121/143 [00:49<00:09,  2.40it/s]"
     ]
    },
    {
     "name": "stdout",
     "output_type": "stream",
     "text": [
      "Module:  Algebra, Combinatoria y Computacion  in subject area: Algorithmics and Theoretical Computer Science (AT\n"
     ]
    },
    {
     "name": "stderr",
     "output_type": "stream",
     "text": [
      " 85%|████████▌ | 122/143 [00:49<00:08,  2.41it/s]"
     ]
    },
    {
     "name": "stdout",
     "output_type": "stream",
     "text": [
      "Module:  Ampliacion de Inteligencia Artificial  in subject area: Algorithmic Data Analysis and Machine Learning (AM\n"
     ]
    },
    {
     "name": "stderr",
     "output_type": "stream",
     "text": [
      " 86%|████████▌ | 123/143 [00:50<00:08,  2.42it/s]"
     ]
    },
    {
     "name": "stdout",
     "output_type": "stream",
     "text": [
      "Module:  Analisis de Datos Multivariantes  in subject area: Algorithmic Data Analysis and Machine Learning (AM\n"
     ]
    },
    {
     "name": "stderr",
     "output_type": "stream",
     "text": [
      " 87%|████████▋ | 124/143 [00:50<00:07,  2.48it/s]"
     ]
    },
    {
     "name": "stdout",
     "output_type": "stream",
     "text": [
      "Module:  Analisis Funcional  in subject area: Algorithmic Data Analysis and Machine Learning (AM\n"
     ]
    },
    {
     "name": "stderr",
     "output_type": "stream",
     "text": [
      " 87%|████████▋ | 125/143 [00:50<00:07,  2.48it/s]"
     ]
    },
    {
     "name": "stdout",
     "output_type": "stream",
     "text": [
      "Module:  Aplicaciones de Soft Computing  in subject area: Algorithmic Data Analysis and Machine Learning (AM\n"
     ]
    },
    {
     "name": "stderr",
     "output_type": "stream",
     "text": [
      " 88%|████████▊ | 126/143 [00:51<00:06,  2.52it/s]"
     ]
    },
    {
     "name": "stdout",
     "output_type": "stream",
     "text": [
      "Module:  Arquitectura de Sistemas Distribuidos  in subject area: Software Systems and Engineering (SE)\n"
     ]
    },
    {
     "name": "stderr",
     "output_type": "stream",
     "text": [
      " 89%|████████▉ | 127/143 [00:51<00:06,  2.46it/s]"
     ]
    },
    {
     "name": "stdout",
     "output_type": "stream",
     "text": [
      "Module:  Calculo en Variedades  in subject area: Algorithmics and Theoretical Computer Science (AT\n"
     ]
    },
    {
     "name": "stderr",
     "output_type": "stream",
     "text": [
      " 90%|████████▉ | 128/143 [00:52<00:05,  2.52it/s]"
     ]
    },
    {
     "name": "stdout",
     "output_type": "stream",
     "text": [
      "Module:  Complementos de Modelizacion y Optimizacion Numerica  in subject area: Scientific Computing (SC)\n"
     ]
    },
    {
     "name": "stderr",
     "output_type": "stream",
     "text": [
      " 90%|█████████ | 129/143 [00:52<00:05,  2.42it/s]"
     ]
    },
    {
     "name": "stdout",
     "output_type": "stream",
     "text": [
      "Module:  Criptografia  in subject area: Algorithmics and Theoretical Computer Science (AT\n"
     ]
    },
    {
     "name": "stderr",
     "output_type": "stream",
     "text": [
      " 91%|█████████ | 130/143 [00:53<00:05,  2.33it/s]"
     ]
    },
    {
     "name": "stdout",
     "output_type": "stream",
     "text": [
      "Module:  Geometria y Topologia de Superficies  in subject area: Algorithmics and Theoretical Computer Science (AT\n"
     ]
    },
    {
     "name": "stderr",
     "output_type": "stream",
     "text": [
      " 92%|█████████▏| 131/143 [00:53<00:04,  2.40it/s]"
     ]
    },
    {
     "name": "stdout",
     "output_type": "stream",
     "text": [
      "Module:  Gestion de la Produccion  in subject area: Software Systems and Engineering (SE)\n"
     ]
    },
    {
     "name": "stderr",
     "output_type": "stream",
     "text": [
      " 92%|█████████▏| 132/143 [00:53<00:04,  2.44it/s]"
     ]
    },
    {
     "name": "stdout",
     "output_type": "stream",
     "text": [
      "Module:  Homologia Simplicial  in subject area: Algorithmics and Theoretical Computer Science (AT\n"
     ]
    },
    {
     "name": "stderr",
     "output_type": "stream",
     "text": [
      " 93%|█████████▎| 133/143 [00:54<00:04,  2.50it/s]"
     ]
    },
    {
     "name": "stdout",
     "output_type": "stream",
     "text": [
      "Module:  Modelizacion Matematica  in subject area: Scientific Computing (SC)\n"
     ]
    },
    {
     "name": "stderr",
     "output_type": "stream",
     "text": [
      " 94%|█████████▎| 134/143 [00:54<00:03,  2.46it/s]"
     ]
    },
    {
     "name": "stdout",
     "output_type": "stream",
     "text": [
      "Module:  Modelos Lineales y Diseno de Experimentos  in subject area: Algorithmic Data Analysis and Machine Learning (AM\n"
     ]
    },
    {
     "name": "stderr",
     "output_type": "stream",
     "text": [
      " 94%|█████████▍| 135/143 [00:54<00:03,  2.48it/s]"
     ]
    },
    {
     "name": "stdout",
     "output_type": "stream",
     "text": [
      "Module:  Sistemas Operativos  in subject area: Software Systems and Engineering (SE)\n"
     ]
    },
    {
     "name": "stderr",
     "output_type": "stream",
     "text": [
      " 95%|█████████▌| 136/143 [00:55<00:02,  2.51it/s]"
     ]
    },
    {
     "name": "stdout",
     "output_type": "stream",
     "text": [
      "Module:  Sistemas Orientados a Servicios  in subject area: Software Systems and Engineering (SE)\n"
     ]
    },
    {
     "name": "stderr",
     "output_type": "stream",
     "text": [
      " 96%|█████████▌| 137/143 [00:55<00:02,  2.55it/s]"
     ]
    },
    {
     "name": "stdout",
     "output_type": "stream",
     "text": [
      "Module:  Tecnologia, Informatica y Sociedad  in subject area: Software Systems and Engineering (SE)\n"
     ]
    },
    {
     "name": "stderr",
     "output_type": "stream",
     "text": [
      " 97%|█████████▋| 138/143 [00:56<00:02,  2.50it/s]"
     ]
    },
    {
     "name": "stdout",
     "output_type": "stream",
     "text": [
      "Module:  Teoria de Codigos y Criptografia  in subject area: Algorithmics and Theoretical Computer Science (AT\n"
     ]
    },
    {
     "name": "stderr",
     "output_type": "stream",
     "text": [
      " 97%|█████████▋| 139/143 [00:56<00:01,  2.51it/s]"
     ]
    },
    {
     "name": "stdout",
     "output_type": "stream",
     "text": [
      "Module:  Variable Compleja  in subject area: Variable Compleja belongs to the subject area \"\n"
     ]
    },
    {
     "name": "stderr",
     "output_type": "stream",
     "text": [
      " 98%|█████████▊| 140/143 [00:56<00:01,  2.57it/s]"
     ]
    },
    {
     "name": "stdout",
     "output_type": "stream",
     "text": [
      "Module:  Computacion Movil  in subject area: Software Systems and Engineering (SE)\n"
     ]
    },
    {
     "name": "stderr",
     "output_type": "stream",
     "text": [
      " 99%|█████████▊| 141/143 [00:57<00:00,  2.61it/s]"
     ]
    },
    {
     "name": "stdout",
     "output_type": "stream",
     "text": [
      "Module:  Modelado y Analisis de Requisitos en Sistemas de Informacion  in subject area: Software Systems and Engineering (SE)\n"
     ]
    },
    {
     "name": "stderr",
     "output_type": "stream",
     "text": [
      " 99%|█████████▉| 142/143 [00:57<00:00,  2.61it/s]"
     ]
    },
    {
     "name": "stdout",
     "output_type": "stream",
     "text": [
      "Module:  Modelos de Computacion y Complejidad  in subject area: Algorithmics and Theoretical Computer Science (AT\n"
     ]
    },
    {
     "name": "stderr",
     "output_type": "stream",
     "text": [
      "100%|██████████| 143/143 [00:58<00:00,  2.46it/s]"
     ]
    },
    {
     "name": "stdout",
     "output_type": "stream",
     "text": [
      "Module:  Introduccion a la Ingenieria del Software y los Sistemas de Informacion II  in subject area: Software Systems and Engineering (SE)\n"
     ]
    },
    {
     "name": "stderr",
     "output_type": "stream",
     "text": [
      "\n"
     ]
    }
   ],
   "source": [
    "import csv\n",
    "import requests\n",
    "import tqdm\n",
    "\n",
    "# Get list of modules from dataframe\n",
    "modules = df['name'].tolist()\n",
    "# Get string from subject areas list\n",
    "subject_areas_string = '\\n'.join(subject_areas)\n",
    "\n",
    "# For each module, call the GPT API\n",
    "for module in tqdm.tqdm(modules):\n",
    "    promt = f'Given the subject areas \"{subject_areas_string}\"\\nWhich subject area does the module \"{module}\" belong to? Only respond with the exact name of the subject area.'\n",
    "    completion = get_completion_from_messages(promt, max_tokens=10)\n",
    "    print(f\"Module: {module} in subject area: {completion}\")\n",
    "    # Assign the subject area to the dataframe\n",
    "    df.loc[df['name'] == module, 'subject_area'] = completion\n",
    "\n"
   ]
  },
  {
   "cell_type": "code",
   "execution_count": 41,
   "metadata": {},
   "outputs": [
    {
     "data": {
      "text/html": [
       "<div>\n",
       "<style scoped>\n",
       "    .dataframe tbody tr th:only-of-type {\n",
       "        vertical-align: middle;\n",
       "    }\n",
       "\n",
       "    .dataframe tbody tr th {\n",
       "        vertical-align: top;\n",
       "    }\n",
       "\n",
       "    .dataframe thead th {\n",
       "        text-align: right;\n",
       "    }\n",
       "</style>\n",
       "<table border=\"1\" class=\"dataframe\">\n",
       "  <thead>\n",
       "    <tr style=\"text-align: right;\">\n",
       "      <th></th>\n",
       "      <th>name</th>\n",
       "      <th>credits</th>\n",
       "      <th>id</th>\n",
       "      <th>semester</th>\n",
       "      <th>faculty</th>\n",
       "      <th>subject_area</th>\n",
       "    </tr>\n",
       "  </thead>\n",
       "  <tbody>\n",
       "    <tr>\n",
       "      <th>0</th>\n",
       "      <td>Fundamentos Fisicos de la Informatica</td>\n",
       "      <td>6</td>\n",
       "      <td>2040004</td>\n",
       "      <td>Segundo semestre</td>\n",
       "      <td>Grado en Ingenieria Informatica-Ingenieria de ...</td>\n",
       "      <td>Scientific Computing (SC)</td>\n",
       "    </tr>\n",
       "    <tr>\n",
       "      <th>1</th>\n",
       "      <td>Calculo Infinitesimal y Numerico</td>\n",
       "      <td>6</td>\n",
       "      <td>2040007</td>\n",
       "      <td>Segundo semestre</td>\n",
       "      <td>Grado en Ingenieria Informatica-Ingenieria de ...</td>\n",
       "      <td>Scientific Computing (SC)</td>\n",
       "    </tr>\n",
       "    <tr>\n",
       "      <th>2</th>\n",
       "      <td>Estadistica</td>\n",
       "      <td>6</td>\n",
       "      <td>2040008</td>\n",
       "      <td>Segundo semestre</td>\n",
       "      <td>Grado en Ingenieria Informatica-Ingenieria de ...</td>\n",
       "      <td>Algorithmic Data Analysis and Machine Learning...</td>\n",
       "    </tr>\n",
       "    <tr>\n",
       "      <th>3</th>\n",
       "      <td>Estructura de Computadores</td>\n",
       "      <td>6</td>\n",
       "      <td>2040009</td>\n",
       "      <td>Segundo semestre</td>\n",
       "      <td>Grado en Ingenieria Informatica-Ingenieria de ...</td>\n",
       "      <td>Computer Engineering (CE)</td>\n",
       "    </tr>\n",
       "    <tr>\n",
       "      <th>4</th>\n",
       "      <td>Arquitectura de Computadores</td>\n",
       "      <td>6</td>\n",
       "      <td>2040015</td>\n",
       "      <td>Segundo semestre</td>\n",
       "      <td>Grado en Ingenieria Informatica-Ingenieria de ...</td>\n",
       "      <td>Computer Engineering (CE)</td>\n",
       "    </tr>\n",
       "  </tbody>\n",
       "</table>\n",
       "</div>"
      ],
      "text/plain": [
       "                                      name credits       id          semester  \\\n",
       "0   Fundamentos Fisicos de la Informatica        6  2040004  Segundo semestre   \n",
       "1        Calculo Infinitesimal y Numerico        6  2040007  Segundo semestre   \n",
       "2                             Estadistica        6  2040008  Segundo semestre   \n",
       "3              Estructura de Computadores        6  2040009  Segundo semestre   \n",
       "4            Arquitectura de Computadores        6  2040015  Segundo semestre   \n",
       "\n",
       "                                             faculty  \\\n",
       "0  Grado en Ingenieria Informatica-Ingenieria de ...   \n",
       "1  Grado en Ingenieria Informatica-Ingenieria de ...   \n",
       "2  Grado en Ingenieria Informatica-Ingenieria de ...   \n",
       "3  Grado en Ingenieria Informatica-Ingenieria de ...   \n",
       "4  Grado en Ingenieria Informatica-Ingenieria de ...   \n",
       "\n",
       "                                        subject_area  \n",
       "0                          Scientific Computing (SC)  \n",
       "1                          Scientific Computing (SC)  \n",
       "2  Algorithmic Data Analysis and Machine Learning...  \n",
       "3                          Computer Engineering (CE)  \n",
       "4                          Computer Engineering (CE)  "
      ]
     },
     "execution_count": 41,
     "metadata": {},
     "output_type": "execute_result"
    }
   ],
   "source": [
    "df.head()"
   ]
  },
  {
   "cell_type": "code",
   "execution_count": 43,
   "metadata": {},
   "outputs": [
    {
     "data": {
      "text/plain": [
       "0                             Scientific Computing (SC)\n",
       "1                             Scientific Computing (SC)\n",
       "2     Algorithmic Data Analysis and Machine Learning...\n",
       "3                             Computer Engineering (CE)\n",
       "4                             Computer Engineering (CE)\n",
       "5     Algorithmics and Theoretical Computer Science (AT\n",
       "6                             Computer Engineering (CE)\n",
       "7                             Computer Engineering (CE)\n",
       "8                 Software Systems and Engineering (SE)\n",
       "9     Algorithmics and Theoretical Computer Science (AT\n",
       "10                            Computer Engineering (CE)\n",
       "11    Algorithmic Data Analysis and Machine Learning...\n",
       "12    Algorithmic Data Analysis and Machine Learning...\n",
       "13    Algorithmic Data Analysis and Machine Learning...\n",
       "14                            Computer Engineering (CE)\n",
       "15                                Visual Computing (VC)\n",
       "16                            Computer Engineering (CE)\n",
       "17                            Computer Engineering (CE)\n",
       "18                                Visual Computing (VC)\n",
       "19                Software Systems and Engineering (SE)\n",
       "Name: subject_area, dtype: object"
      ]
     },
     "execution_count": 43,
     "metadata": {},
     "output_type": "execute_result"
    }
   ],
   "source": [
    "# head of column subject_area\n",
    "df['subject_area'].head(20)"
   ]
  },
  {
   "cell_type": "code",
   "execution_count": 46,
   "metadata": {},
   "outputs": [],
   "source": [
    "df_to_excel(df)"
   ]
  },
  {
   "cell_type": "code",
   "execution_count": 48,
   "metadata": {},
   "outputs": [
    {
     "ename": "IndexError",
     "evalue": "At least one sheet must be visible",
     "output_type": "error",
     "traceback": [
      "\u001b[0;31m---------------------------------------------------------------------------\u001b[0m",
      "\u001b[0;31mTypeError\u001b[0m                                 Traceback (most recent call last)",
      "\u001b[1;32m/Users/leonremke/Desktop/Sevilla_Options/import requests.ipynb Cell 19\u001b[0m line \u001b[0;36m1\n\u001b[1;32m     <a href='vscode-notebook-cell:/Users/leonremke/Desktop/Sevilla_Options/import%20requests.ipynb#X26sZmlsZQ%3D%3D?line=13'>14</a>\u001b[0m     \u001b[39mfor\u001b[39;00m faculty \u001b[39min\u001b[39;00m df_copy[\u001b[39m'\u001b[39m\u001b[39mfaculty\u001b[39m\u001b[39m'\u001b[39m]\u001b[39m.\u001b[39munique():\n\u001b[0;32m---> <a href='vscode-notebook-cell:/Users/leonremke/Desktop/Sevilla_Options/import%20requests.ipynb#X26sZmlsZQ%3D%3D?line=14'>15</a>\u001b[0m         df_copy[df_copy[\u001b[39m'\u001b[39;49m\u001b[39mfaculty\u001b[39;49m\u001b[39m'\u001b[39;49m] \u001b[39m==\u001b[39;49m faculty]\u001b[39m.\u001b[39;49mto_excel(writer, sheet_name\u001b[39m=\u001b[39;49mfaculty, index\u001b[39m=\u001b[39;49m\u001b[39mFalse\u001b[39;49;00m, engine\u001b[39m=\u001b[39;49m\u001b[39m'\u001b[39;49m\u001b[39mopenpyxl\u001b[39;49m\u001b[39m'\u001b[39;49m, encoding\u001b[39m=\u001b[39;49m\u001b[39m'\u001b[39;49m\u001b[39mutf-8\u001b[39;49m\u001b[39m'\u001b[39;49m)\n\u001b[1;32m     <a href='vscode-notebook-cell:/Users/leonremke/Desktop/Sevilla_Options/import%20requests.ipynb#X26sZmlsZQ%3D%3D?line=16'>17</a>\u001b[0m \u001b[39m# Open the Excel file\u001b[39;00m\n",
      "\u001b[0;31mTypeError\u001b[0m: NDFrame.to_excel() got an unexpected keyword argument 'encoding'",
      "\nDuring handling of the above exception, another exception occurred:\n",
      "\u001b[0;31mIndexError\u001b[0m                                Traceback (most recent call last)",
      "\u001b[1;32m/Users/leonremke/Desktop/Sevilla_Options/import requests.ipynb Cell 19\u001b[0m line \u001b[0;36m1\n\u001b[0;32m----> <a href='vscode-notebook-cell:/Users/leonremke/Desktop/Sevilla_Options/import%20requests.ipynb#X26sZmlsZQ%3D%3D?line=0'>1</a>\u001b[0m df_to_excel_advanced(df)\n",
      "\u001b[1;32m/Users/leonremke/Desktop/Sevilla_Options/import requests.ipynb Cell 19\u001b[0m line \u001b[0;36m1\n\u001b[1;32m     <a href='vscode-notebook-cell:/Users/leonremke/Desktop/Sevilla_Options/import%20requests.ipynb#X26sZmlsZQ%3D%3D?line=9'>10</a>\u001b[0m df_copy \u001b[39m=\u001b[39m df_copy\u001b[39m.\u001b[39mapply(\u001b[39mlambda\u001b[39;00m x: x\u001b[39m.\u001b[39mstr\u001b[39m.\u001b[39mnormalize(\u001b[39m'\u001b[39m\u001b[39mNFKD\u001b[39m\u001b[39m'\u001b[39m)\u001b[39m.\u001b[39mstr\u001b[39m.\u001b[39mencode(\u001b[39m'\u001b[39m\u001b[39mascii\u001b[39m\u001b[39m'\u001b[39m, errors\u001b[39m=\u001b[39m\u001b[39m'\u001b[39m\u001b[39mignore\u001b[39m\u001b[39m'\u001b[39m)\u001b[39m.\u001b[39mstr\u001b[39m.\u001b[39mdecode(\u001b[39m'\u001b[39m\u001b[39mutf-8\u001b[39m\u001b[39m'\u001b[39m))\n\u001b[1;32m     <a href='vscode-notebook-cell:/Users/leonremke/Desktop/Sevilla_Options/import%20requests.ipynb#X26sZmlsZQ%3D%3D?line=11'>12</a>\u001b[0m \u001b[39m# Save to excel with one sheet per faculty\u001b[39;00m\n\u001b[0;32m---> <a href='vscode-notebook-cell:/Users/leonremke/Desktop/Sevilla_Options/import%20requests.ipynb#X26sZmlsZQ%3D%3D?line=12'>13</a>\u001b[0m \u001b[39mwith\u001b[39;49;00m pd\u001b[39m.\u001b[39;49mExcelWriter(\u001b[39m'\u001b[39;49m\u001b[39mcourses_1.xlsx\u001b[39;49m\u001b[39m'\u001b[39;49m) \u001b[39mas\u001b[39;49;00m writer:\n\u001b[1;32m     <a href='vscode-notebook-cell:/Users/leonremke/Desktop/Sevilla_Options/import%20requests.ipynb#X26sZmlsZQ%3D%3D?line=13'>14</a>\u001b[0m     \u001b[39mfor\u001b[39;49;00m faculty \u001b[39min\u001b[39;49;00m df_copy[\u001b[39m'\u001b[39;49m\u001b[39mfaculty\u001b[39;49m\u001b[39m'\u001b[39;49m]\u001b[39m.\u001b[39;49munique():\n\u001b[1;32m     <a href='vscode-notebook-cell:/Users/leonremke/Desktop/Sevilla_Options/import%20requests.ipynb#X26sZmlsZQ%3D%3D?line=14'>15</a>\u001b[0m         df_copy[df_copy[\u001b[39m'\u001b[39;49m\u001b[39mfaculty\u001b[39;49m\u001b[39m'\u001b[39;49m] \u001b[39m==\u001b[39;49m faculty]\u001b[39m.\u001b[39;49mto_excel(writer, sheet_name\u001b[39m=\u001b[39;49mfaculty, index\u001b[39m=\u001b[39;49m\u001b[39mFalse\u001b[39;49;00m, engine\u001b[39m=\u001b[39;49m\u001b[39m'\u001b[39;49m\u001b[39mopenpyxl\u001b[39;49m\u001b[39m'\u001b[39;49m, encoding\u001b[39m=\u001b[39;49m\u001b[39m'\u001b[39;49m\u001b[39mutf-8\u001b[39;49m\u001b[39m'\u001b[39;49m)\n",
      "File \u001b[0;32m~/miniconda3/envs/bomberman/lib/python3.11/site-packages/pandas/io/excel/_base.py:1370\u001b[0m, in \u001b[0;36mExcelWriter.__exit__\u001b[0;34m(self, exc_type, exc_value, traceback)\u001b[0m\n\u001b[1;32m   1364\u001b[0m \u001b[39mdef\u001b[39;00m \u001b[39m__exit__\u001b[39m(\n\u001b[1;32m   1365\u001b[0m     \u001b[39mself\u001b[39m,\n\u001b[1;32m   1366\u001b[0m     exc_type: \u001b[39mtype\u001b[39m[\u001b[39mBaseException\u001b[39;00m] \u001b[39m|\u001b[39m \u001b[39mNone\u001b[39;00m,\n\u001b[1;32m   1367\u001b[0m     exc_value: \u001b[39mBaseException\u001b[39;00m \u001b[39m|\u001b[39m \u001b[39mNone\u001b[39;00m,\n\u001b[1;32m   1368\u001b[0m     traceback: TracebackType \u001b[39m|\u001b[39m \u001b[39mNone\u001b[39;00m,\n\u001b[1;32m   1369\u001b[0m ) \u001b[39m-\u001b[39m\u001b[39m>\u001b[39m \u001b[39mNone\u001b[39;00m:\n\u001b[0;32m-> 1370\u001b[0m     \u001b[39mself\u001b[39;49m\u001b[39m.\u001b[39;49mclose()\n",
      "File \u001b[0;32m~/miniconda3/envs/bomberman/lib/python3.11/site-packages/pandas/io/excel/_base.py:1374\u001b[0m, in \u001b[0;36mExcelWriter.close\u001b[0;34m(self)\u001b[0m\n\u001b[1;32m   1372\u001b[0m \u001b[39mdef\u001b[39;00m \u001b[39mclose\u001b[39m(\u001b[39mself\u001b[39m) \u001b[39m-\u001b[39m\u001b[39m>\u001b[39m \u001b[39mNone\u001b[39;00m:\n\u001b[1;32m   1373\u001b[0m \u001b[39m    \u001b[39m\u001b[39m\"\"\"synonym for save, to make it more file-like\"\"\"\u001b[39;00m\n\u001b[0;32m-> 1374\u001b[0m     \u001b[39mself\u001b[39;49m\u001b[39m.\u001b[39;49m_save()\n\u001b[1;32m   1375\u001b[0m     \u001b[39mself\u001b[39m\u001b[39m.\u001b[39m_handles\u001b[39m.\u001b[39mclose()\n",
      "File \u001b[0;32m~/miniconda3/envs/bomberman/lib/python3.11/site-packages/pandas/io/excel/_openpyxl.py:110\u001b[0m, in \u001b[0;36mOpenpyxlWriter._save\u001b[0;34m(self)\u001b[0m\n\u001b[1;32m    106\u001b[0m \u001b[39mdef\u001b[39;00m \u001b[39m_save\u001b[39m(\u001b[39mself\u001b[39m) \u001b[39m-\u001b[39m\u001b[39m>\u001b[39m \u001b[39mNone\u001b[39;00m:\n\u001b[1;32m    107\u001b[0m \u001b[39m    \u001b[39m\u001b[39m\"\"\"\u001b[39;00m\n\u001b[1;32m    108\u001b[0m \u001b[39m    Save workbook to disk.\u001b[39;00m\n\u001b[1;32m    109\u001b[0m \u001b[39m    \"\"\"\u001b[39;00m\n\u001b[0;32m--> 110\u001b[0m     \u001b[39mself\u001b[39;49m\u001b[39m.\u001b[39;49mbook\u001b[39m.\u001b[39;49msave(\u001b[39mself\u001b[39;49m\u001b[39m.\u001b[39;49m_handles\u001b[39m.\u001b[39;49mhandle)\n\u001b[1;32m    111\u001b[0m     \u001b[39mif\u001b[39;00m \u001b[39m\"\u001b[39m\u001b[39mr+\u001b[39m\u001b[39m\"\u001b[39m \u001b[39min\u001b[39;00m \u001b[39mself\u001b[39m\u001b[39m.\u001b[39m_mode \u001b[39mand\u001b[39;00m \u001b[39mnot\u001b[39;00m \u001b[39misinstance\u001b[39m(\u001b[39mself\u001b[39m\u001b[39m.\u001b[39m_handles\u001b[39m.\u001b[39mhandle, mmap\u001b[39m.\u001b[39mmmap):\n\u001b[1;32m    112\u001b[0m         \u001b[39m# truncate file to the written content\u001b[39;00m\n\u001b[1;32m    113\u001b[0m         \u001b[39mself\u001b[39m\u001b[39m.\u001b[39m_handles\u001b[39m.\u001b[39mhandle\u001b[39m.\u001b[39mtruncate()\n",
      "File \u001b[0;32m~/miniconda3/envs/bomberman/lib/python3.11/site-packages/openpyxl/workbook/workbook.py:386\u001b[0m, in \u001b[0;36mWorkbook.save\u001b[0;34m(self, filename)\u001b[0m\n\u001b[1;32m    384\u001b[0m \u001b[39mif\u001b[39;00m \u001b[39mself\u001b[39m\u001b[39m.\u001b[39mwrite_only \u001b[39mand\u001b[39;00m \u001b[39mnot\u001b[39;00m \u001b[39mself\u001b[39m\u001b[39m.\u001b[39mworksheets:\n\u001b[1;32m    385\u001b[0m     \u001b[39mself\u001b[39m\u001b[39m.\u001b[39mcreate_sheet()\n\u001b[0;32m--> 386\u001b[0m save_workbook(\u001b[39mself\u001b[39;49m, filename)\n",
      "File \u001b[0;32m~/miniconda3/envs/bomberman/lib/python3.11/site-packages/openpyxl/writer/excel.py:294\u001b[0m, in \u001b[0;36msave_workbook\u001b[0;34m(workbook, filename)\u001b[0m\n\u001b[1;32m    292\u001b[0m workbook\u001b[39m.\u001b[39mproperties\u001b[39m.\u001b[39mmodified \u001b[39m=\u001b[39m datetime\u001b[39m.\u001b[39mdatetime\u001b[39m.\u001b[39mutcnow()\n\u001b[1;32m    293\u001b[0m writer \u001b[39m=\u001b[39m ExcelWriter(workbook, archive)\n\u001b[0;32m--> 294\u001b[0m writer\u001b[39m.\u001b[39;49msave()\n\u001b[1;32m    295\u001b[0m \u001b[39mreturn\u001b[39;00m \u001b[39mTrue\u001b[39;00m\n",
      "File \u001b[0;32m~/miniconda3/envs/bomberman/lib/python3.11/site-packages/openpyxl/writer/excel.py:275\u001b[0m, in \u001b[0;36mExcelWriter.save\u001b[0;34m(self)\u001b[0m\n\u001b[1;32m    273\u001b[0m \u001b[39mdef\u001b[39;00m \u001b[39msave\u001b[39m(\u001b[39mself\u001b[39m):\n\u001b[1;32m    274\u001b[0m \u001b[39m    \u001b[39m\u001b[39m\"\"\"Write data into the archive.\"\"\"\u001b[39;00m\n\u001b[0;32m--> 275\u001b[0m     \u001b[39mself\u001b[39;49m\u001b[39m.\u001b[39;49mwrite_data()\n\u001b[1;32m    276\u001b[0m     \u001b[39mself\u001b[39m\u001b[39m.\u001b[39m_archive\u001b[39m.\u001b[39mclose()\n",
      "File \u001b[0;32m~/miniconda3/envs/bomberman/lib/python3.11/site-packages/openpyxl/writer/excel.py:89\u001b[0m, in \u001b[0;36mExcelWriter.write_data\u001b[0;34m(self)\u001b[0m\n\u001b[1;32m     87\u001b[0m writer \u001b[39m=\u001b[39m WorkbookWriter(\u001b[39mself\u001b[39m\u001b[39m.\u001b[39mworkbook)\n\u001b[1;32m     88\u001b[0m archive\u001b[39m.\u001b[39mwritestr(ARC_ROOT_RELS, writer\u001b[39m.\u001b[39mwrite_root_rels())\n\u001b[0;32m---> 89\u001b[0m archive\u001b[39m.\u001b[39mwritestr(ARC_WORKBOOK, writer\u001b[39m.\u001b[39;49mwrite())\n\u001b[1;32m     90\u001b[0m archive\u001b[39m.\u001b[39mwritestr(ARC_WORKBOOK_RELS, writer\u001b[39m.\u001b[39mwrite_rels())\n\u001b[1;32m     92\u001b[0m \u001b[39mself\u001b[39m\u001b[39m.\u001b[39m_merge_vba()\n",
      "File \u001b[0;32m~/miniconda3/envs/bomberman/lib/python3.11/site-packages/openpyxl/workbook/_writer.py:150\u001b[0m, in \u001b[0;36mWorkbookWriter.write\u001b[0;34m(self)\u001b[0m\n\u001b[1;32m    148\u001b[0m \u001b[39mself\u001b[39m\u001b[39m.\u001b[39mwrite_names()\n\u001b[1;32m    149\u001b[0m \u001b[39mself\u001b[39m\u001b[39m.\u001b[39mwrite_pivots()\n\u001b[0;32m--> 150\u001b[0m \u001b[39mself\u001b[39;49m\u001b[39m.\u001b[39;49mwrite_views()\n\u001b[1;32m    151\u001b[0m \u001b[39mself\u001b[39m\u001b[39m.\u001b[39mwrite_refs()\n\u001b[1;32m    153\u001b[0m \u001b[39mreturn\u001b[39;00m tostring(\u001b[39mself\u001b[39m\u001b[39m.\u001b[39mpackage\u001b[39m.\u001b[39mto_tree())\n",
      "File \u001b[0;32m~/miniconda3/envs/bomberman/lib/python3.11/site-packages/openpyxl/workbook/_writer.py:137\u001b[0m, in \u001b[0;36mWorkbookWriter.write_views\u001b[0;34m(self)\u001b[0m\n\u001b[1;32m    136\u001b[0m \u001b[39mdef\u001b[39;00m \u001b[39mwrite_views\u001b[39m(\u001b[39mself\u001b[39m):\n\u001b[0;32m--> 137\u001b[0m     active \u001b[39m=\u001b[39m get_active_sheet(\u001b[39mself\u001b[39;49m\u001b[39m.\u001b[39;49mwb)\n\u001b[1;32m    138\u001b[0m     \u001b[39mif\u001b[39;00m \u001b[39mself\u001b[39m\u001b[39m.\u001b[39mwb\u001b[39m.\u001b[39mviews:\n\u001b[1;32m    139\u001b[0m         \u001b[39mself\u001b[39m\u001b[39m.\u001b[39mwb\u001b[39m.\u001b[39mviews[\u001b[39m0\u001b[39m]\u001b[39m.\u001b[39mactiveTab \u001b[39m=\u001b[39m active\n",
      "File \u001b[0;32m~/miniconda3/envs/bomberman/lib/python3.11/site-packages/openpyxl/workbook/_writer.py:35\u001b[0m, in \u001b[0;36mget_active_sheet\u001b[0;34m(wb)\u001b[0m\n\u001b[1;32m     33\u001b[0m visible_sheets \u001b[39m=\u001b[39m [idx \u001b[39mfor\u001b[39;00m idx, sheet \u001b[39min\u001b[39;00m \u001b[39menumerate\u001b[39m(wb\u001b[39m.\u001b[39m_sheets) \u001b[39mif\u001b[39;00m sheet\u001b[39m.\u001b[39msheet_state \u001b[39m==\u001b[39m \u001b[39m\"\u001b[39m\u001b[39mvisible\u001b[39m\u001b[39m\"\u001b[39m]\n\u001b[1;32m     34\u001b[0m \u001b[39mif\u001b[39;00m \u001b[39mnot\u001b[39;00m visible_sheets:\n\u001b[0;32m---> 35\u001b[0m     \u001b[39mraise\u001b[39;00m \u001b[39mIndexError\u001b[39;00m(\u001b[39m\"\u001b[39m\u001b[39mAt least one sheet must be visible\u001b[39m\u001b[39m\"\u001b[39m)\n\u001b[1;32m     37\u001b[0m idx \u001b[39m=\u001b[39m wb\u001b[39m.\u001b[39m_active_sheet_index\n\u001b[1;32m     38\u001b[0m sheet \u001b[39m=\u001b[39m wb\u001b[39m.\u001b[39mactive\n",
      "\u001b[0;31mIndexError\u001b[0m: At least one sheet must be visible"
     ]
    }
   ],
   "source": [
    "df_to_excel_advanced(df)"
   ]
  },
  {
   "cell_type": "code",
   "execution_count": null,
   "metadata": {},
   "outputs": [],
   "source": []
  }
 ],
 "metadata": {
  "kernelspec": {
   "display_name": "bomberman",
   "language": "python",
   "name": "python3"
  },
  "language_info": {
   "codemirror_mode": {
    "name": "ipython",
    "version": 3
   },
   "file_extension": ".py",
   "mimetype": "text/x-python",
   "name": "python",
   "nbconvert_exporter": "python",
   "pygments_lexer": "ipython3",
   "version": "3.11.5"
  }
 },
 "nbformat": 4,
 "nbformat_minor": 2
}
